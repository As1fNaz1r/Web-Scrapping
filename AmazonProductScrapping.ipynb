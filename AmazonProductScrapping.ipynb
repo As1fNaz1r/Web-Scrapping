{
 "cells": [
  {
   "cell_type": "code",
   "execution_count": 3,
   "id": "1d4013fc",
   "metadata": {},
   "outputs": [],
   "source": [
    "from tqdm import tqdm\n",
    "import time\n",
    "from selenium import webdriver\n",
    "from selenium.webdriver.chrome.service import Service\n",
    "from selenium.webdriver.common.by import By\n",
    "from selenium.webdriver.chrome.options import Options\n",
    "from selenium.webdriver.common.keys import Keys\n",
    "from bs4 import BeautifulSoup\n",
    "import re\n",
    "import pandas as pd"
   ]
  },
  {
   "cell_type": "code",
   "execution_count": 4,
   "id": "2ae87353",
   "metadata": {},
   "outputs": [],
   "source": [
    "# Create a new Chrome session\n",
    "chrome_options = Options()\n",
    "chrome_options.add_argument(\"--headless\")  # Run Chrome in headless mode\n",
    "\n",
    "driver = webdriver.Chrome()\n",
    "driver.get('https://www.amazon.in')"
   ]
  },
  {
   "cell_type": "code",
   "execution_count": 5,
   "id": "80b11904",
   "metadata": {},
   "outputs": [],
   "source": [
    "# Manually input product URLs\n",
    "product_urls = [\n",
    "    'https://www.amazon.in/Kurl-Mattress-Orthopedic-72x48x5-Ortho/dp/B0BNJ42DF9/ref=sr_1_1_sspa?crid=1YAZ4LZJ2G62X&dib=eyJ2IjoiMSJ9.xbwEKkpazp59E8btcje8ESXiNckXfcVPiWE9BrxdGXLIn9NkNgds-NNQkZ9qZtiD-Bzn5EaDvHM3HhmhGL63lUHEi93ikLqBPFKnjx3NesK1FszbsRrWm6tG7CH8E-c-U6yphOrMvFb-uAXFrozuY3CutEmw7E1gybjdRQhFeuoZUsdRoP0M6s6Hc2qQgNQnYp_UD2B9_8SbrcIhxeS7TBnlce3nUP61zG3pYQhV5zo77Bg5icRdUZ_1UqTpXncT1ag-VzPo0oM_iDsfDY2QQu6N2y9wHyx4BbbtqTMmLaw.mrUlrFLC6Rg07WgM-Nb0RdsuFOjUQzYFRM8d-v2TY3Y&dib_tag=se&keywords=sleepyhug+ortho+spinex+mattress&qid=1710754378&sprefix=sleephug+ortho+spinex+mattress%2Caps%2C204&sr=8-1-spons&sp_csd=d2lkZ2V0TmFtZT1zcF9hdGY&psc=1',\n",
    "    'https://www.amazon.in/Sleep-Company-SmartGRID-Orthopedic-Pro/dp/B0BPMJGQXV/ref=sr_1_4_sspa?crid=1YAZ4LZJ2G62X&dib=eyJ2IjoiMSJ9.xbwEKkpazp59E8btcje8ESXiNckXfcVPiWE9BrxdGXLIn9NkNgds-NNQkZ9qZtiD-Bzn5EaDvHM3HhmhGL63lUHEi93ikLqBPFKnjx3NesK1FszbsRrWm6tG7CH8E-c-U6yphOrMvFb-uAXFrozuY3CutEmw7E1gybjdRQhFeuoZUsdRoP0M6s6Hc2qQgNQnYp_UD2B9_8SbrcIhxeS7TBnlce3nUP61zG3pYQhV5zo77Bg5icRdUZ_1UqTpXncT1ag-VzPo0oM_iDsfDY2QQu6N2y9wHyx4BbbtqTMmLaw.mrUlrFLC6Rg07WgM-Nb0RdsuFOjUQzYFRM8d-v2TY3Y&dib_tag=se&keywords=sleepyhug+ortho+spinex+mattress&qid=1710754378&sprefix=sleephug+ortho+spinex+mattress%2Caps%2C204&sr=8-4-spons&sp_csd=d2lkZ2V0TmFtZT1zcF9hdGY&psc=1',\n",
    "    'https://www.amazon.in/SleepyHug-Orthopedic-Mattress-Reversible-Tape-Edge/dp/B0CJDXTC7T/ref=sr_1_9?sr=8-9',\n",
    "    # Add more product URLs as needed\n",
    "]"
   ]
  },
  {
   "cell_type": "code",
   "execution_count": 6,
   "id": "305c2962",
   "metadata": {},
   "outputs": [
    {
     "name": "stderr",
     "output_type": "stream",
     "text": [
      "100%|██████████| 3/3 [00:22<00:00,  7.50s/it]"
     ]
    },
    {
     "name": "stdout",
     "output_type": "stream",
     "text": [
      "Titles: ['        Kurl-On Mattress |Spinel Ortho|Orthopedic Mattress|5-Inch Double Size Mattress |72x48x5 Inches Firm Support | Bonded Foam Mattres.       ', '        The Sleep Company SmartGRID Orthopedic Pro - Doctor Recommended | Pressure Relieving | Scientifically Proven 5 Zone Support | 6 Inch Single Size AIHA Certified Firm Mattress for Back Pain | 75x36       ', '        SleepyHug AirCell Ortho Dual Comfort Plus Orthopedic Mattress with Reversible Hard & Soft Foam 6 inch Mattress AirCell Tech, Ideal for Single Bed, Back Pain Relief, Tape-Edge Cover, (78x36x6)       ']\n",
      "Ratings: ['4.0 out of 5 stars', '4.6 out of 5 stars', '4.6 out of 5 stars']\n",
      "Prices: ['9,547.', '15,500.', '7,340.']\n",
      "MRPs: ['12,399', '25,833', '8,882']\n",
      "Discounts: ['N/A', 'N/A', 'N/A']\n"
     ]
    },
    {
     "name": "stderr",
     "output_type": "stream",
     "text": [
      "\n"
     ]
    }
   ],
   "source": [
    "titles = []\n",
    "ratings = []\n",
    "prices = []\n",
    "mrps = []\n",
    "discounts = []\n",
    "\n",
    "for url in tqdm(product_urls):\n",
    "    driver.get(url)\n",
    "    time.sleep(3)\n",
    "    html_data = BeautifulSoup(driver.page_source, 'html.parser')\n",
    "    product = html_data.find('div', {'id': 'ppd'})\n",
    "    if product:\n",
    "        # Extract title\n",
    "        title = product.find('span',{'class':'a-size-large product-title-word-break'}).text\n",
    "        titles.append(title)\n",
    "        \n",
    "        #Extract ratings\n",
    "        rating = product.find('span',{'class':'a-icon-alt'})\n",
    "        if rating  == None:\n",
    "            rating = 'No Rating'\n",
    "        else:\n",
    "            rating = product.find('span',{'class':'a-icon-alt'}).text\n",
    "        ratings.append(rating)\n",
    "        \n",
    "        #extract price\n",
    "        price_element = product.find('span', {'class': 'a-price-whole'})\n",
    "        if price_element is not None:\n",
    "            price = price_element.text\n",
    "            prices.append(price)\n",
    "        else:\n",
    "            prices.append('N/A')  # or any other value you want to assign when price is not found\n",
    "        \n",
    "      # Extract mrp\n",
    "        mrp_element = product.find('span', {'class': 'a-price a-text-price'})\n",
    "        if mrp_element is not None:\n",
    "            # Extracting the price from the first span element within the parent span\n",
    "            price_span = mrp_element.find('span', {'aria-hidden': 'true'})\n",
    "            if price_span is not None:\n",
    "                mrp = price_span.text.strip()\n",
    "                # Remove the '₹' symbol from the MRP text\n",
    "                mrp = mrp.replace('₹', '').strip()\n",
    "                mrps.append(mrp)\n",
    "            else:\n",
    "                # If price is not found within the nested span, extract from the offscreen span\n",
    "                offscreen_span = mrp_element.find('span', {'class': 'a-offscreen'})\n",
    "                if offscreen_span is not None:\n",
    "                    mrp = offscreen_span.text.strip()\n",
    "                    # Remove the '₹' symbol from the MRP text\n",
    "                    mrp = mrp.replace('₹', '').strip()\n",
    "                    mrps.append(mrp)\n",
    "                else:\n",
    "                    mrps.append('N/A')  # Append 'N/A' if price is not found\n",
    "        else:\n",
    "            mrps.append('N/A')  # Append 'N/A' if no price element is found\n",
    "\n",
    "\n",
    "        #extract discount\n",
    "        discount_element = product.find('span', {'class': 'a-size-medium a-color-price savingPriceOverride aok-align-center reinventPriceSavingsPercentageMargin savingsPercentage'})\n",
    "        if discount_element is not None:\n",
    "            discount_percentage = discount_element.text.strip()\n",
    "        else:\n",
    "            discount_percentage = 'N/A'\n",
    "        discounts.append(discount_percentage)\n",
    "\n",
    "# Print or process the scraped data\n",
    "print(\"Titles:\", titles)\n",
    "print(\"Ratings:\", ratings)\n",
    "print(\"Prices:\", prices)\n",
    "print(\"MRPs:\", mrps)\n",
    "print(\"Discounts:\", discounts)"
   ]
  },
  {
   "cell_type": "code",
   "execution_count": 7,
   "id": "70c4433d",
   "metadata": {},
   "outputs": [
    {
     "data": {
      "text/html": [
       "<div>\n",
       "<style scoped>\n",
       "    .dataframe tbody tr th:only-of-type {\n",
       "        vertical-align: middle;\n",
       "    }\n",
       "\n",
       "    .dataframe tbody tr th {\n",
       "        vertical-align: top;\n",
       "    }\n",
       "\n",
       "    .dataframe thead th {\n",
       "        text-align: right;\n",
       "    }\n",
       "</style>\n",
       "<table border=\"1\" class=\"dataframe\">\n",
       "  <thead>\n",
       "    <tr style=\"text-align: right;\">\n",
       "      <th></th>\n",
       "      <th>titles</th>\n",
       "      <th>ratings</th>\n",
       "      <th>prices</th>\n",
       "      <th>mrps</th>\n",
       "      <th>discounts</th>\n",
       "    </tr>\n",
       "  </thead>\n",
       "  <tbody>\n",
       "    <tr>\n",
       "      <th>0</th>\n",
       "      <td>Kurl-On Mattress |Spinel Ortho|Orthope...</td>\n",
       "      <td>4.0 out of 5 stars</td>\n",
       "      <td>9,547.</td>\n",
       "      <td>12,399</td>\n",
       "      <td>N/A</td>\n",
       "    </tr>\n",
       "    <tr>\n",
       "      <th>1</th>\n",
       "      <td>The Sleep Company SmartGRID Orthopedic...</td>\n",
       "      <td>4.6 out of 5 stars</td>\n",
       "      <td>15,500.</td>\n",
       "      <td>25,833</td>\n",
       "      <td>N/A</td>\n",
       "    </tr>\n",
       "    <tr>\n",
       "      <th>2</th>\n",
       "      <td>SleepyHug AirCell Ortho Dual Comfort P...</td>\n",
       "      <td>4.6 out of 5 stars</td>\n",
       "      <td>7,340.</td>\n",
       "      <td>8,882</td>\n",
       "      <td>N/A</td>\n",
       "    </tr>\n",
       "  </tbody>\n",
       "</table>\n",
       "</div>"
      ],
      "text/plain": [
       "                                              titles             ratings  \\\n",
       "0          Kurl-On Mattress |Spinel Ortho|Orthope...  4.0 out of 5 stars   \n",
       "1          The Sleep Company SmartGRID Orthopedic...  4.6 out of 5 stars   \n",
       "2          SleepyHug AirCell Ortho Dual Comfort P...  4.6 out of 5 stars   \n",
       "\n",
       "    prices    mrps discounts  \n",
       "0   9,547.  12,399       N/A  \n",
       "1  15,500.  25,833       N/A  \n",
       "2   7,340.   8,882       N/A  "
      ]
     },
     "execution_count": 7,
     "metadata": {},
     "output_type": "execute_result"
    }
   ],
   "source": [
    "data = pd.DataFrame({\n",
    "    'titles': titles,\n",
    "    'ratings': ratings,\n",
    "    'prices': prices,\n",
    "    'mrps': mrps,\n",
    "    'discounts': discounts\n",
    "})\n",
    "data"
   ]
  },
  {
   "cell_type": "code",
   "execution_count": 8,
   "id": "c43c9fa0",
   "metadata": {},
   "outputs": [
    {
     "name": "stdout",
     "output_type": "stream",
     "text": [
      "CSV file saved successfully.\n"
     ]
    }
   ],
   "source": [
    "csv_file_path = '/home/user/Data/scrapping/items.csv'\n",
    "data.to_csv(csv_file_path, index=True)\n",
    "print(\"CSV file saved successfully.\")"
   ]
  },
  {
   "cell_type": "code",
   "execution_count": null,
   "id": "aa561e43",
   "metadata": {},
   "outputs": [],
   "source": []
  }
 ],
 "metadata": {
  "kernelspec": {
   "display_name": "Python 3 (ipykernel)",
   "language": "python",
   "name": "python3"
  },
  "language_info": {
   "codemirror_mode": {
    "name": "ipython",
    "version": 3
   },
   "file_extension": ".py",
   "mimetype": "text/x-python",
   "name": "python",
   "nbconvert_exporter": "python",
   "pygments_lexer": "ipython3",
   "version": "3.11.5"
  }
 },
 "nbformat": 4,
 "nbformat_minor": 5
}
